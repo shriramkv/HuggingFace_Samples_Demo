{
 "cells": [
  {
   "cell_type": "code",
   "execution_count": 3,
   "id": "20ca4079-209e-4869-b764-e5d552ed408f",
   "metadata": {},
   "outputs": [
    {
     "name": "stderr",
     "output_type": "stream",
     "text": [
      "Some weights of the model checkpoint at bert-base-uncased were not used when initializing BertForMaskedLM: ['bert.pooler.dense.bias', 'bert.pooler.dense.weight', 'cls.seq_relationship.bias', 'cls.seq_relationship.weight']\n",
      "- This IS expected if you are initializing BertForMaskedLM from the checkpoint of a model trained on another task or with another architecture (e.g. initializing a BertForSequenceClassification model from a BertForPreTraining model).\n",
      "- This IS NOT expected if you are initializing BertForMaskedLM from the checkpoint of a model that you expect to be exactly identical (initializing a BertForSequenceClassification model from a BertForSequenceClassification model).\n"
     ]
    },
    {
     "name": "stdout",
     "output_type": "stream",
     "text": [
      "Prediction: perfect, Score: 0.04334402456879616\n",
      "Prediction: gone, Score: 0.04068252444267273\n",
      "Prediction: beautiful, Score: 0.013400840573012829\n",
      "Prediction: real, Score: 0.013377542607486248\n",
      "Prediction: hard, Score: 0.012429159134626389\n"
     ]
    }
   ],
   "source": [
    "from transformers import pipeline\n",
    "\n",
    "# Load the fill-mask pipeline\n",
    "fill_mask = pipeline('fill-mask', model='bert-base-uncased')\n",
    "\n",
    "# Define a sentence with a blank (use [MASK] for the blank)\n",
    "sentence = \"Hugging Face is [MASK].\"\n",
    "\n",
    "# Perform fill-in-the-blank\n",
    "outputs = fill_mask(sentence)\n",
    "\n",
    "# Output the options\n",
    "for option in outputs:\n",
    "    print(f\"Prediction: {option['token_str']}, Score: {option['score']}\")\n"
   ]
  },
  {
   "cell_type": "code",
   "execution_count": null,
   "id": "c0ebfd07-2d1b-4c0d-9a8e-f2662f115d00",
   "metadata": {},
   "outputs": [],
   "source": []
  }
 ],
 "metadata": {
  "kernelspec": {
   "display_name": "Python 3 (ipykernel)",
   "language": "python",
   "name": "python3"
  },
  "language_info": {
   "codemirror_mode": {
    "name": "ipython",
    "version": 3
   },
   "file_extension": ".py",
   "mimetype": "text/x-python",
   "name": "python",
   "nbconvert_exporter": "python",
   "pygments_lexer": "ipython3",
   "version": "3.11.5"
  }
 },
 "nbformat": 4,
 "nbformat_minor": 5
}
