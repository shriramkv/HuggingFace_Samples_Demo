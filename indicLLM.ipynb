{
 "cells": [
  {
   "cell_type": "code",
   "execution_count": 1,
   "id": "7313f0a3-d522-43d2-926e-33bba81a8664",
   "metadata": {},
   "outputs": [
    {
     "name": "stderr",
     "output_type": "stream",
     "text": [
      "/opt/intel/oneapi/intelpython/envs/pytorch/lib/python3.9/site-packages/tqdm/auto.py:21: TqdmWarning: IProgress not found. Please update jupyter and ipywidgets. See https://ipywidgets.readthedocs.io/en/stable/user_install.html\n",
      "  from .autonotebook import tqdm as notebook_tqdm\n"
     ]
    },
    {
     "name": "stdout",
     "output_type": "stream",
     "text": [
      "Warning: Cannot load xpu CCL. CCL doesn't work for XPU device\n",
      "[2024-09-25 03:54:17,236] [INFO] [real_accelerator.py:203:get_accelerator] Setting ds_accelerator to cpu (auto detect)\n"
     ]
    },
    {
     "name": "stderr",
     "output_type": "stream",
     "text": [
      "/opt/intel/oneapi/intelpython/envs/pytorch/lib/python3.9/site-packages/torch/distributed/distributed_c10d.py:266: UserWarning: Device capability of ccl unspecified, assuming `cpu` and `cuda`. Please specify it via the `devices` argument of `register_backend`.\n",
      "  warnings.warn(\n",
      "Loading checkpoint shards: 100%|██████████| 4/4 [00:03<00:00,  1.07it/s]\n"
     ]
    }
   ],
   "source": [
    "from transformers import pipeline\n",
    "import intel_extension_for_pytorch as ipex\n",
    "pipe = pipeline(\"text-generation\", model=\"GenVRadmin/llama38bGenZ_Vikas-Merged\")"
   ]
  },
  {
   "cell_type": "code",
   "execution_count": 2,
   "id": "77c4ba2c-847b-4697-adf0-d826f4c0d463",
   "metadata": {},
   "outputs": [],
   "source": [
    "supported_languages = [\"Tamil\", \"Telugu\", \"Assamese\", \"Kashmiri\", \"Punjabi\", \"Bengali\", \"Sanskrit\", \n",
    "                      \"Malayalam\", \"Sindhi\", \"Marathi\", \"Gujarati\", \"Kannada\", \"Odia\", \"Maithili\", \n",
    "                      \"Urdu\", \"Nepali\", \"Manipuri\", \"Dogri\", \"English\", \"Arabic\", \"Santali\", \"Bodo\"]\n",
    "translated_responses = {}"
   ]
  },
  {
   "cell_type": "code",
   "execution_count": 3,
   "id": "86976f5e-bae6-4f97-9cdc-1bf23b2424c7",
   "metadata": {},
   "outputs": [],
   "source": [
    "input_phrase = \"Can you speak this language?\""
   ]
  },
  {
   "cell_type": "code",
   "execution_count": null,
   "id": "76ce442a-c7d7-43a5-9a26-95f86341681d",
   "metadata": {},
   "outputs": [
    {
     "name": "stderr",
     "output_type": "stream",
     "text": [
      "Truncation was not explicitly activated but `max_length` is provided a specific value, please use `truncation=True` to explicitly truncate examples to max length. Defaulting to 'longest_first' truncation strategy. If you encode pairs of sequences (GLUE-style) with the tokenizer you can select this strategy more precisely by providing a specific strategy to `truncation`.\n",
      "Setting `pad_token_id` to `eos_token_id`:128001 for open-end generation.\n"
     ]
    }
   ],
   "source": [
    "for lang in supported_languages:\n",
    "    prompt = f\"Translate the following phrase to {lang}:\\n\\nInput Phrase: {input_phrase}\"\n",
    "    translated_text = pipe(prompt, max_length=200, num_return_sequences=1)[0]['generated_text']\n",
    "    translated_responses[lang] = translated_text"
   ]
  },
  {
   "cell_type": "code",
   "execution_count": null,
   "id": "1193653a-17a4-4193-97a8-603f092ec594",
   "metadata": {},
   "outputs": [],
   "source": [
    "# Display the translated responses\n",
    "for lang, response in translated_responses.items():\n",
    "    print(f\"{lang}: {response}\")"
   ]
  },
  {
   "cell_type": "code",
   "execution_count": null,
   "id": "9fe35664-6c40-4aff-bd53-060159696a89",
   "metadata": {},
   "outputs": [],
   "source": []
  },
  {
   "cell_type": "code",
   "execution_count": null,
   "id": "59bc3c3f-0aaf-4253-9e5e-7fdbb9574281",
   "metadata": {},
   "outputs": [],
   "source": []
  },
  {
   "cell_type": "code",
   "execution_count": null,
   "id": "18b38106-e49e-4ca4-a540-2fee49f61410",
   "metadata": {},
   "outputs": [],
   "source": []
  }
 ],
 "metadata": {
  "kernelspec": {
   "display_name": "PyTorch",
   "language": "python",
   "name": "pytorch"
  },
  "language_info": {
   "codemirror_mode": {
    "name": "ipython",
    "version": 3
   },
   "file_extension": ".py",
   "mimetype": "text/x-python",
   "name": "python",
   "nbconvert_exporter": "python",
   "pygments_lexer": "ipython3",
   "version": "3.9.19"
  }
 },
 "nbformat": 4,
 "nbformat_minor": 5
}
