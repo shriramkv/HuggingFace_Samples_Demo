{
 "cells": [
  {
   "cell_type": "code",
   "execution_count": 9,
   "id": "6455b448-433d-4870-b3c8-d553bb64db88",
   "metadata": {},
   "outputs": [
    {
     "name": "stdout",
     "output_type": "stream",
     "text": [
      "Defaulting to user installation because normal site-packages is not writeable\n",
      "Requirement already satisfied: diffusers in /home/u275fd8e4d91dab6914f7cf5e3a9bd9b/.local/lib/python3.10/site-packages (0.30.3)\n",
      "Requirement already satisfied: transformers in /home/u275fd8e4d91dab6914f7cf5e3a9bd9b/.local/lib/python3.10/site-packages (4.44.2)\n",
      "Requirement already satisfied: torch in /home/u275fd8e4d91dab6914f7cf5e3a9bd9b/.local/lib/python3.10/site-packages (2.4.1)\n",
      "Requirement already satisfied: Pillow in /home/u275fd8e4d91dab6914f7cf5e3a9bd9b/.local/lib/python3.10/site-packages (10.4.0)\n",
      "Requirement already satisfied: safetensors>=0.3.1 in /home/u275fd8e4d91dab6914f7cf5e3a9bd9b/.local/lib/python3.10/site-packages (from diffusers) (0.4.5)\n",
      "Requirement already satisfied: filelock in /home/u275fd8e4d91dab6914f7cf5e3a9bd9b/.local/lib/python3.10/site-packages (from diffusers) (3.16.1)\n",
      "Requirement already satisfied: importlib-metadata in /usr/lib/python3/dist-packages (from diffusers) (4.6.4)\n",
      "Requirement already satisfied: requests in /home/u275fd8e4d91dab6914f7cf5e3a9bd9b/.local/lib/python3.10/site-packages (from diffusers) (2.32.3)\n",
      "Requirement already satisfied: huggingface-hub>=0.23.2 in /home/u275fd8e4d91dab6914f7cf5e3a9bd9b/.local/lib/python3.10/site-packages (from diffusers) (0.25.0)\n",
      "Requirement already satisfied: regex!=2019.12.17 in /home/u275fd8e4d91dab6914f7cf5e3a9bd9b/.local/lib/python3.10/site-packages (from diffusers) (2024.9.11)\n",
      "Requirement already satisfied: numpy in /home/u275fd8e4d91dab6914f7cf5e3a9bd9b/.local/lib/python3.10/site-packages (from diffusers) (1.26.4)\n",
      "Requirement already satisfied: tokenizers<0.20,>=0.19 in /home/u275fd8e4d91dab6914f7cf5e3a9bd9b/.local/lib/python3.10/site-packages (from transformers) (0.19.1)\n",
      "Requirement already satisfied: tqdm>=4.27 in /home/u275fd8e4d91dab6914f7cf5e3a9bd9b/.local/lib/python3.10/site-packages (from transformers) (4.66.5)\n",
      "Requirement already satisfied: pyyaml>=5.1 in /usr/lib/python3/dist-packages (from transformers) (5.4.1)\n",
      "Requirement already satisfied: packaging>=20.0 in /home/u275fd8e4d91dab6914f7cf5e3a9bd9b/.local/lib/python3.10/site-packages (from transformers) (24.1)\n",
      "Requirement already satisfied: jinja2 in /usr/lib/python3/dist-packages (from torch) (3.0.3)\n",
      "Requirement already satisfied: nvidia-cuda-cupti-cu12==12.1.105 in /home/u275fd8e4d91dab6914f7cf5e3a9bd9b/.local/lib/python3.10/site-packages (from torch) (12.1.105)\n",
      "Requirement already satisfied: nvidia-nvtx-cu12==12.1.105 in /home/u275fd8e4d91dab6914f7cf5e3a9bd9b/.local/lib/python3.10/site-packages (from torch) (12.1.105)\n",
      "Requirement already satisfied: nvidia-cuda-nvrtc-cu12==12.1.105 in /home/u275fd8e4d91dab6914f7cf5e3a9bd9b/.local/lib/python3.10/site-packages (from torch) (12.1.105)\n",
      "Requirement already satisfied: nvidia-cuda-runtime-cu12==12.1.105 in /home/u275fd8e4d91dab6914f7cf5e3a9bd9b/.local/lib/python3.10/site-packages (from torch) (12.1.105)\n",
      "Requirement already satisfied: sympy in /home/u275fd8e4d91dab6914f7cf5e3a9bd9b/.local/lib/python3.10/site-packages (from torch) (1.13.3)\n",
      "Requirement already satisfied: nvidia-curand-cu12==10.3.2.106 in /home/u275fd8e4d91dab6914f7cf5e3a9bd9b/.local/lib/python3.10/site-packages (from torch) (10.3.2.106)\n",
      "Requirement already satisfied: networkx in /home/u275fd8e4d91dab6914f7cf5e3a9bd9b/.local/lib/python3.10/site-packages (from torch) (3.3)\n",
      "Requirement already satisfied: nvidia-cudnn-cu12==9.1.0.70 in /home/u275fd8e4d91dab6914f7cf5e3a9bd9b/.local/lib/python3.10/site-packages (from torch) (9.1.0.70)\n",
      "Requirement already satisfied: nvidia-nccl-cu12==2.20.5 in /home/u275fd8e4d91dab6914f7cf5e3a9bd9b/.local/lib/python3.10/site-packages (from torch) (2.20.5)\n",
      "Requirement already satisfied: typing-extensions>=4.8.0 in /home/u275fd8e4d91dab6914f7cf5e3a9bd9b/.local/lib/python3.10/site-packages (from torch) (4.12.2)\n",
      "Requirement already satisfied: fsspec in /home/u275fd8e4d91dab6914f7cf5e3a9bd9b/.local/lib/python3.10/site-packages (from torch) (2024.6.1)\n",
      "Requirement already satisfied: nvidia-cublas-cu12==12.1.3.1 in /home/u275fd8e4d91dab6914f7cf5e3a9bd9b/.local/lib/python3.10/site-packages (from torch) (12.1.3.1)\n",
      "Requirement already satisfied: nvidia-cusparse-cu12==12.1.0.106 in /home/u275fd8e4d91dab6914f7cf5e3a9bd9b/.local/lib/python3.10/site-packages (from torch) (12.1.0.106)\n",
      "Requirement already satisfied: triton==3.0.0 in /home/u275fd8e4d91dab6914f7cf5e3a9bd9b/.local/lib/python3.10/site-packages (from torch) (3.0.0)\n",
      "Requirement already satisfied: nvidia-cufft-cu12==11.0.2.54 in /home/u275fd8e4d91dab6914f7cf5e3a9bd9b/.local/lib/python3.10/site-packages (from torch) (11.0.2.54)\n",
      "Requirement already satisfied: nvidia-cusolver-cu12==11.4.5.107 in /home/u275fd8e4d91dab6914f7cf5e3a9bd9b/.local/lib/python3.10/site-packages (from torch) (11.4.5.107)\n",
      "Requirement already satisfied: nvidia-nvjitlink-cu12 in /home/u275fd8e4d91dab6914f7cf5e3a9bd9b/.local/lib/python3.10/site-packages (from nvidia-cusolver-cu12==11.4.5.107->torch) (12.6.68)\n",
      "Requirement already satisfied: charset-normalizer<4,>=2 in /home/u275fd8e4d91dab6914f7cf5e3a9bd9b/.local/lib/python3.10/site-packages (from requests->diffusers) (3.3.2)\n",
      "Requirement already satisfied: urllib3<3,>=1.21.1 in /usr/lib/python3/dist-packages (from requests->diffusers) (1.26.5)\n",
      "Requirement already satisfied: idna<4,>=2.5 in /usr/lib/python3/dist-packages (from requests->diffusers) (3.3)\n",
      "Requirement already satisfied: certifi>=2017.4.17 in /usr/lib/python3/dist-packages (from requests->diffusers) (2020.6.20)\n",
      "Requirement already satisfied: mpmath<1.4,>=1.1.0 in /home/u275fd8e4d91dab6914f7cf5e3a9bd9b/.local/lib/python3.10/site-packages (from sympy->torch) (1.3.0)\n"
     ]
    },
    {
     "data": {
      "application/vnd.jupyter.widget-view+json": {
       "model_id": "b0e6aa67c8f248f1a0c10ee7f3a6fef9",
       "version_major": 2,
       "version_minor": 0
      },
      "text/plain": [
       "Loading pipeline components...:   0%|          | 0/7 [00:00<?, ?it/s]"
      ]
     },
     "metadata": {},
     "output_type": "display_data"
    },
    {
     "data": {
      "application/vnd.jupyter.widget-view+json": {
       "model_id": "ac1477d1a4254b7ead881d50e3ef5571",
       "version_major": 2,
       "version_minor": 0
      },
      "text/plain": [
       "  0%|          | 0/37 [00:00<?, ?it/s]"
      ]
     },
     "metadata": {},
     "output_type": "display_data"
    }
   ],
   "source": [
    "# Install the required packages\n",
    "!pip install diffusers transformers torch Pillow\n",
    "\n",
    "from diffusers import StableDiffusionImg2ImgPipeline\n",
    "from PIL import Image\n",
    "import torch\n",
    "\n",
    "# Load the pre-trained img2img model (for CPU)\n",
    "pipe = StableDiffusionImg2ImgPipeline.from_pretrained(\"CompVis/stable-diffusion-v1-4\")\n",
    "pipe = pipe.to(\"cpu\")  # Using CPU\n",
    "\n",
    "# Load an initial image (input image for modification) in the correct format\n",
    "init_image = Image.open(\"2.jpg\").convert(\"RGB\")  # Ensure it's RGB\n",
    "init_image = init_image.resize((512, 512))  # Resize to 512x512 pixels\n",
    "\n",
    "# Define the text prompt\n",
    "prompt = \"A futuristic version of this image with neon lights\"\n",
    "\n",
    "# Generate variations of the image based on the prompt\n",
    "images = pipe(prompt=prompt, image=init_image, strength=0.75).images\n",
    "\n",
    "# Save the output modified image\n",
    "images[0].save(\"modified_image_cpu.png\")\n"
   ]
  },
  {
   "cell_type": "code",
   "execution_count": null,
   "id": "577e41a9-9dc1-41b9-be68-c73875a0eaaa",
   "metadata": {},
   "outputs": [],
   "source": []
  },
  {
   "cell_type": "code",
   "execution_count": null,
   "id": "fc8b103f-bd85-4d6b-8fb0-c4f53e6cab3d",
   "metadata": {},
   "outputs": [],
   "source": []
  }
 ],
 "metadata": {
  "kernelspec": {
   "display_name": "Python 3 (ipykernel)",
   "language": "python",
   "name": "python3"
  },
  "language_info": {
   "codemirror_mode": {
    "name": "ipython",
    "version": 3
   },
   "file_extension": ".py",
   "mimetype": "text/x-python",
   "name": "python",
   "nbconvert_exporter": "python",
   "pygments_lexer": "ipython3",
   "version": "3.11.5"
  }
 },
 "nbformat": 4,
 "nbformat_minor": 5
}
