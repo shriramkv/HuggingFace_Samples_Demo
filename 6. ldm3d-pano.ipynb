{
 "cells": [
  {
   "cell_type": "code",
   "execution_count": 3,
   "id": "7c652867-54d1-4126-94cd-ef59934edc21",
   "metadata": {},
   "outputs": [
    {
     "name": "stdout",
     "output_type": "stream",
     "text": [
      "Defaulting to user installation because normal site-packages is not writeable\n",
      "Requirement already satisfied: diffusers in /home/u275fd8e4d91dab6914f7cf5e3a9bd9b/.local/lib/python3.10/site-packages (0.30.3)\n",
      "Requirement already satisfied: filelock in /home/u275fd8e4d91dab6914f7cf5e3a9bd9b/.local/lib/python3.10/site-packages (from diffusers) (3.16.1)\n",
      "Requirement already satisfied: regex!=2019.12.17 in /home/u275fd8e4d91dab6914f7cf5e3a9bd9b/.local/lib/python3.10/site-packages (from diffusers) (2024.9.11)\n",
      "Requirement already satisfied: Pillow in /home/u275fd8e4d91dab6914f7cf5e3a9bd9b/.local/lib/python3.10/site-packages (from diffusers) (10.4.0)\n",
      "Requirement already satisfied: requests in /home/u275fd8e4d91dab6914f7cf5e3a9bd9b/.local/lib/python3.10/site-packages (from diffusers) (2.32.3)\n",
      "Requirement already satisfied: safetensors>=0.3.1 in /home/u275fd8e4d91dab6914f7cf5e3a9bd9b/.local/lib/python3.10/site-packages (from diffusers) (0.4.5)\n",
      "Requirement already satisfied: importlib-metadata in /usr/lib/python3/dist-packages (from diffusers) (4.6.4)\n",
      "Requirement already satisfied: huggingface-hub>=0.23.2 in /home/u275fd8e4d91dab6914f7cf5e3a9bd9b/.local/lib/python3.10/site-packages (from diffusers) (0.25.0)\n",
      "Requirement already satisfied: numpy in /home/u275fd8e4d91dab6914f7cf5e3a9bd9b/.local/lib/python3.10/site-packages (from diffusers) (1.26.4)\n",
      "Requirement already satisfied: packaging>=20.9 in /home/u275fd8e4d91dab6914f7cf5e3a9bd9b/.local/lib/python3.10/site-packages (from huggingface-hub>=0.23.2->diffusers) (24.1)\n",
      "Requirement already satisfied: tqdm>=4.42.1 in /home/u275fd8e4d91dab6914f7cf5e3a9bd9b/.local/lib/python3.10/site-packages (from huggingface-hub>=0.23.2->diffusers) (4.66.5)\n",
      "Requirement already satisfied: pyyaml>=5.1 in /usr/lib/python3/dist-packages (from huggingface-hub>=0.23.2->diffusers) (5.4.1)\n",
      "Requirement already satisfied: typing-extensions>=3.7.4.3 in /home/u275fd8e4d91dab6914f7cf5e3a9bd9b/.local/lib/python3.10/site-packages (from huggingface-hub>=0.23.2->diffusers) (4.12.2)\n",
      "Requirement already satisfied: fsspec>=2023.5.0 in /home/u275fd8e4d91dab6914f7cf5e3a9bd9b/.local/lib/python3.10/site-packages (from huggingface-hub>=0.23.2->diffusers) (2024.6.1)\n",
      "Requirement already satisfied: idna<4,>=2.5 in /usr/lib/python3/dist-packages (from requests->diffusers) (3.3)\n",
      "Requirement already satisfied: urllib3<3,>=1.21.1 in /usr/lib/python3/dist-packages (from requests->diffusers) (1.26.5)\n",
      "Requirement already satisfied: charset-normalizer<4,>=2 in /home/u275fd8e4d91dab6914f7cf5e3a9bd9b/.local/lib/python3.10/site-packages (from requests->diffusers) (3.3.2)\n",
      "Requirement already satisfied: certifi>=2017.4.17 in /usr/lib/python3/dist-packages (from requests->diffusers) (2020.6.20)\n"
     ]
    },
    {
     "data": {
      "application/vnd.jupyter.widget-view+json": {
       "model_id": "8d5b1821026d424b97db31f8647541eb",
       "version_major": 2,
       "version_minor": 0
      },
      "text/plain": [
       "Loading pipeline components...:   0%|          | 0/7 [00:00<?, ?it/s]"
      ]
     },
     "metadata": {},
     "output_type": "display_data"
    },
    {
     "data": {
      "application/vnd.jupyter.widget-view+json": {
       "model_id": "abad9c18f707436f8316ad8c5ed79719",
       "version_major": 2,
       "version_minor": 0
      },
      "text/plain": [
       "  0%|          | 0/50 [00:00<?, ?it/s]"
      ]
     },
     "metadata": {},
     "output_type": "display_data"
    }
   ],
   "source": [
    "!pip install diffusers\n",
    "#!pip install accelerate\n",
    "#!pip install transformers\n",
    "from diffusers import StableDiffusionLDM3DPipeline\n",
    "\n",
    "pipe = StableDiffusionLDM3DPipeline.from_pretrained(\"Intel/ldm3d-pano\")\n",
    "#https://huggingface.co/Intel/ldm3d-pano\n",
    "# On CPU\n",
    "pipe.to(\"cpu\")\n",
    "prompt = \"A hyper realistic avatar of a guy riding on a Red honda cbr 650r in leather yellow suit,high detail, high quality,8K,photo realism\"\n",
    "name = \"Honda-pano\"\n",
    "\n",
    "output = pipe(\n",
    "        prompt,\n",
    "        width=1024,\n",
    "        height=512,\n",
    "        guidance_scale=7.0,\n",
    "        num_inference_steps=50,\n",
    "    ) \n",
    "rgb_image, depth_image = output.rgb, output.depth\n",
    "rgb_image[0].save(name+\"_ldm3d_rgb.jpg\")\n",
    "depth_image[0].save(name+\"_ldm3d_depth.png\")"
   ]
  },
  {
   "cell_type": "code",
   "execution_count": null,
   "id": "9c87a0fa-9a54-482e-99a3-3e8cf40aabf2",
   "metadata": {},
   "outputs": [],
   "source": []
  }
 ],
 "metadata": {
  "kernelspec": {
   "display_name": "Python 3 (ipykernel)",
   "language": "python",
   "name": "python3"
  },
  "language_info": {
   "codemirror_mode": {
    "name": "ipython",
    "version": 3
   },
   "file_extension": ".py",
   "mimetype": "text/x-python",
   "name": "python",
   "nbconvert_exporter": "python",
   "pygments_lexer": "ipython3",
   "version": "3.11.5"
  }
 },
 "nbformat": 4,
 "nbformat_minor": 5
}
