{
 "cells": [
  {
   "cell_type": "code",
   "execution_count": 9,
   "id": "b93ac207-d694-4fe0-83b5-45cfe42979cd",
   "metadata": {},
   "outputs": [
    {
     "name": "stderr",
     "output_type": "stream",
     "text": [
      "Some weights of DistilBertForSequenceClassification were not initialized from the model checkpoint at distilbert-base-uncased and are newly initialized: ['classifier.bias', 'classifier.weight', 'pre_classifier.bias', 'pre_classifier.weight']\n",
      "You should probably TRAIN this model on a down-stream task to be able to use it for predictions and inference.\n"
     ]
    },
    {
     "name": "stdout",
     "output_type": "stream",
     "text": [
      "Label: LABEL_1, Score: 0.5586550831794739\n"
     ]
    }
   ],
   "source": [
    "from transformers import pipeline\n",
    "\n",
    "# Initialize the sentiment analysis pipeline with the DistilBERT model\n",
    "classifier = pipeline('sentiment-analysis', model='distilbert-base-uncased')\n",
    "\n",
    "# Sample text for classification\n",
    "text = \"You are lovely\"\n",
    "\n",
    "# Perform classification\n",
    "result = classifier(text)[0]\n",
    "\n",
    "# Output the result\n",
    "print(f\"Label: {result['label']}, Score: {result['score']}\")\n"
   ]
  },
  {
   "cell_type": "code",
   "execution_count": null,
   "id": "3da17807-466b-472c-80d4-734cf3355363",
   "metadata": {},
   "outputs": [],
   "source": []
  },
  {
   "cell_type": "code",
   "execution_count": null,
   "id": "c1371e14-6aa9-45db-a522-9fa23b16d564",
   "metadata": {},
   "outputs": [],
   "source": []
  },
  {
   "cell_type": "code",
   "execution_count": null,
   "id": "bb853989-e2d3-4f38-8b53-f142f46400fd",
   "metadata": {},
   "outputs": [],
   "source": []
  }
 ],
 "metadata": {
  "kernelspec": {
   "display_name": "Python 3 (ipykernel)",
   "language": "python",
   "name": "python3"
  },
  "language_info": {
   "codemirror_mode": {
    "name": "ipython",
    "version": 3
   },
   "file_extension": ".py",
   "mimetype": "text/x-python",
   "name": "python",
   "nbconvert_exporter": "python",
   "pygments_lexer": "ipython3",
   "version": "3.11.5"
  }
 },
 "nbformat": 4,
 "nbformat_minor": 5
}
